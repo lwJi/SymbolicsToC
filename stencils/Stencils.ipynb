{
 "cells": [
  {
   "cell_type": "markdown",
   "id": "569394ac-9082-45bd-97f2-f142f52d245a",
   "metadata": {},
   "source": [
    "# Finite Difference Stencils"
   ]
  },
  {
   "cell_type": "markdown",
   "id": "ad5d6a2e-90ed-41d7-89b0-fbed995dadb1",
   "metadata": {
    "tags": []
   },
   "source": [
    "We want to represent $f'(0)$ in the following form (say up to $O(h^5)$):\n",
    "$$\n",
    "f'(0) = \\frac{c_1 f(-2h) + c_2 f(-h) + c_3 f(+h) + c_4 f(+2h)}{h}\n",
    "$$\n",
    "which should be ture for any analytic function, for the first few bases, we can choose:\n",
    "$$\n",
    "\\begin{align}\n",
    "f(x) = 1, f(x) = x, f(x) = x^2, f(x) = x^3.\n",
    "\\end{align}\n",
    "$$\n",
    "Take derivatives\n",
    "$$\n",
    "\\begin{align}\n",
    "\\left.\n",
    "\\begin{array}{c}\n",
    "\\frac{c_1 + c_2 + c_3 + c_4}{h} &= 0,\\\\\n",
    "\\frac{c_1 (-2h) + c_2 (-h) + c_3 (h) + c_4 (h)}{h} &= 1,\\\\\n",
    "\\frac{c_1 (-2h)^2 + c_2 (-h)^2 + c_3 (h)^2 + c_4 (2h)^2}{h} &= 0,\\\\\n",
    "\\frac{c_1 (-2h)^3 + c_2 (-h)^3 + c_3 (h)^3 + c_4 (2h)^3}{h} &= 0,\\\\\n",
    "\\end{array}\n",
    "\\right\\}\n",
    "%\\begin{array}{c}\n",
    "%\n",
    "%\\end{array}\n",
    "\\end{align}\n",
    "$$"
   ]
  },
  {
   "cell_type": "code",
   "execution_count": null,
   "id": "1eb4996f-b861-42cc-8581-822a374d33f7",
   "metadata": {},
   "outputs": [],
   "source": [
    "include(\"stencils.jl\")\n",
    "include(\"../writeio.jl\")"
   ]
  },
  {
   "cell_type": "code",
   "execution_count": null,
   "id": "f5df7eac-58f6-4737-8820-1de6f2c4c0d4",
   "metadata": {},
   "outputs": [],
   "source": [
    "using .FDStencils\n",
    "using .WriteIO"
   ]
  },
  {
   "cell_type": "code",
   "execution_count": null,
   "id": "2f648de4-32b3-4501-a933-bdc72cb4c6b5",
   "metadata": {},
   "outputs": [],
   "source": [
    "simple = [-3//2, -1//2, 1//2, 3//2];\n",
    "values = [0, 1, 0, 0];"
   ]
  },
  {
   "cell_type": "code",
   "execution_count": null,
   "id": "74b03a36-9b5e-4d8c-979e-e5624ab1dfac",
   "metadata": {
    "tags": []
   },
   "outputs": [],
   "source": [
    "cs = GetCoefficient(simple, values)"
   ]
  },
  {
   "cell_type": "markdown",
   "id": "af1064d7-f47c-4539-b62a-05a0016992f2",
   "metadata": {},
   "source": [
    "#### Write to Files"
   ]
  },
  {
   "cell_type": "code",
   "execution_count": null,
   "id": "55994a1d-59ac-4bef-868c-f3179a4fb98b",
   "metadata": {},
   "outputs": [],
   "source": [
    "filename = \"test.hxx\"\n",
    "thornname = \"WaveToyHigherOrderX\""
   ]
  },
  {
   "cell_type": "code",
   "execution_count": null,
   "id": "f17d845e-40d4-4633-b5d6-c1463b6ffd42",
   "metadata": {},
   "outputs": [],
   "source": [
    "pr()"
   ]
  },
  {
   "cell_type": "code",
   "execution_count": null,
   "id": "b01bf659-720b-44ba-8a59-93885b407584",
   "metadata": {},
   "outputs": [],
   "source": [
    "function headpart(pr::Function)\n",
    "    pr(\"#ifndef \" * replace(uppercase(filename), \".\"=>\"_\"))\n",
    "    pr(\"#define \" * replace(uppercase(filename), \".\"=>\"_\"))\n",
    "    pr()\n",
    "end"
   ]
  },
  {
   "cell_type": "code",
   "execution_count": null,
   "id": "5e3e6c8c-8d68-4aba-9ebb-a0b4b17c790d",
   "metadata": {},
   "outputs": [],
   "source": [
    "function bodypart(pr::Function)\n",
    "    pr(\"#include <cctk.h>\")\n",
    "    pr(\"namespace \" * thornname * \" {\")\n",
    "    pr()\n",
    "    pr(cs[1])\n",
    "    pr(cs[2])\n",
    "end"
   ]
  },
  {
   "cell_type": "code",
   "execution_count": null,
   "id": "366ded37-d4b7-434e-b25e-58f0a9465384",
   "metadata": {},
   "outputs": [],
   "source": [
    "function tailpart(pr::Function)\n",
    "    pr(\"} // namespace \" * thornname)\n",
    "    pr(\"#endif // #ifndef \" * replace(uppercase(filename), \".\"=>\"_\"))\n",
    "end"
   ]
  },
  {
   "cell_type": "markdown",
   "id": "37f8280d-3d0c-4d2a-b29e-53cb04291559",
   "metadata": {
    "tags": []
   },
   "source": [
    "## Write to Files"
   ]
  },
  {
   "cell_type": "code",
   "execution_count": null,
   "id": "b72157c7-5ee3-4801-a971-cba06d41ae18",
   "metadata": {},
   "outputs": [],
   "source": [
    "# filename = \"test.hxx\"\n",
    "# thornname = \"WaveToyHigherOrderX\"\n",
    "# if isfile(filename)\n",
    "#     println(\"file \", filename, \" already, exist, replacing it ...\")\n",
    "#     rm(filename)\n",
    "# end\n",
    "# filepointer = open(filename, \"a\")\n",
    "# pr(x=\"\") = println(filepointer, x)"
   ]
  },
  {
   "cell_type": "code",
   "execution_count": null,
   "id": "7e207ce2-0804-4e85-9bd5-9893b7f2ad47",
   "metadata": {},
   "outputs": [],
   "source": [
    "# headpart();\n",
    "# bodypart();\n",
    "# tailpart();\n",
    "# println(\"Done generating \", filename)\n",
    "# close(filepointer)"
   ]
  },
  {
   "cell_type": "code",
   "execution_count": 11,
   "id": "95623d12-aa26-4f9a-8ab1-7db44a881add",
   "metadata": {},
   "outputs": [
    {
     "name": "stdout",
     "output_type": "stream",
     "text": [
      "file test.hxx already, exist, replacing it ...\n"
     ]
    },
    {
     "ename": "LoadError",
     "evalue": "UndefVarError: `pr` not defined",
     "output_type": "error",
     "traceback": [
      "UndefVarError: `pr` not defined",
      "",
      "Stacktrace:",
      " [1] headpart()",
      "   @ Main ./In[6]:2",
      " [2] WriteFile(headpart::typeof(headpart), bodypart::typeof(bodypart), tailpart::typeof(tailpart), filename::String)",
      "   @ Main.WriteIO ~/Tools/SymbolicsToC/writeio.jl:13",
      " [3] top-level scope",
      "   @ In[11]:1"
     ]
    }
   ],
   "source": [
    "WriteFile(headpart, bodypart, tailpart, filename)"
   ]
  }
 ],
 "metadata": {
  "kernelspec": {
   "display_name": "Julia 1.9.0",
   "language": "julia",
   "name": "julia-1.9"
  },
  "language_info": {
   "file_extension": ".jl",
   "mimetype": "application/julia",
   "name": "julia",
   "version": "1.9.0"
  }
 },
 "nbformat": 4,
 "nbformat_minor": 5
}
