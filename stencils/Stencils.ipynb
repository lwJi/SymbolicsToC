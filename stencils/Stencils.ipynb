{
 "cells": [
  {
   "cell_type": "markdown",
   "id": "569394ac-9082-45bd-97f2-f142f52d245a",
   "metadata": {},
   "source": [
    "# Finite Difference Stencils"
   ]
  },
  {
   "cell_type": "code",
   "execution_count": 1,
   "id": "1eb4996f-b861-42cc-8581-822a374d33f7",
   "metadata": {},
   "outputs": [],
   "source": [
    "include(\"stencils.jl\")\n",
    "include(\"../writeio.jl\")\n",
    "using .FDStencils\n",
    "using .WriteIO\n",
    "#\n",
    "using Symbolics"
   ]
  },
  {
   "cell_type": "markdown",
   "id": "78f7ed40-f8c2-4df5-8929-31cf4d3bd3fe",
   "metadata": {},
   "source": [
    "#### 2nd order accurate 1st derivative"
   ]
  },
  {
   "cell_type": "code",
   "execution_count": 6,
   "id": "e91b6a79-464e-4623-b13e-7c6a017cbd71",
   "metadata": {},
   "outputs": [],
   "source": [
    "#exp = build_function(C_1D2O, [gf[i] for i in 1:length(coeff_C_1D2O)], target=Symbolics.CTarget())"
   ]
  },
  {
   "cell_type": "code",
   "execution_count": 2,
   "id": "7cf7fcb2-c990-4db9-a096-872861908b7a",
   "metadata": {
    "tags": []
   },
   "outputs": [
    {
     "data": {
      "text/plain": [
       "\"((1//12)*gf(p.I - 2*p.DI[dir]) + (2//3)*gf(p.I + 1*p.DI[dir]) - (1//12)*gf(p.I + 2*p.DI[dir]) - (2//3)*gf(p.I - 1*p.DI[dir])) / h\""
      ]
     },
     "execution_count": 2,
     "metadata": {},
     "output_type": "execute_result"
    }
   ],
   "source": [
    "GetDerivsFD([-2//1, -1, 0, 1, 2], 1)"
   ]
  },
  {
   "cell_type": "code",
   "execution_count": 3,
   "id": "e3f7b71d-f3aa-4bcf-817d-d252ade88bab",
   "metadata": {
    "tags": []
   },
   "outputs": [
    {
     "data": {
      "text/plain": [
       "\"((4//3)*(gf(p.I - 1*p.DI[dir]) + gf(p.I + 1*p.DI[dir])) - (1//12)*(gf(p.I - 2*p.DI[dir]) + gf(p.I + 2*p.DI[dir])) - (5//2)*gf(p.I + 0*p.DI[dir])) / (h^2)\""
      ]
     },
     "execution_count": 3,
     "metadata": {},
     "output_type": "execute_result"
    }
   ],
   "source": [
    "GetDerivsFD([-2//1, -1, 0, 1, 2], 2)"
   ]
  },
  {
   "cell_type": "code",
   "execution_count": 4,
   "id": "95abf3eb-c2c9-4f8e-9a19-657b47824c55",
   "metadata": {
    "tags": []
   },
   "outputs": [
    {
     "data": {
      "text/plain": [
       "\"((1//2)*gf(p.I + 2*p.DI[dir]) + gf(p.I - 1*p.DI[dir]) - (1//2)*gf(p.I - 2*p.DI[dir]) - gf(p.I + 1*p.DI[dir])) / (h^3)\""
      ]
     },
     "execution_count": 4,
     "metadata": {},
     "output_type": "execute_result"
    }
   ],
   "source": [
    "GetDerivsFD([-2//1, -1, 0, 1, 2], 3)"
   ]
  },
  {
   "cell_type": "code",
   "execution_count": 6,
   "id": "6d419fa8-34f7-44a1-9963-6610a2bb2ac9",
   "metadata": {
    "tags": []
   },
   "outputs": [
    {
     "data": {
      "text/plain": [
       "\"((6//1)*gf(p.I + 0*p.DI[dir]) + gf(p.I - 2*p.DI[dir]) + gf(p.I + 2*p.DI[dir]) - (4//1)*(gf(p.I - 1*p.DI[dir]) + gf(p.I + 1*p.DI[dir]))) / (h^4)\""
      ]
     },
     "execution_count": 6,
     "metadata": {},
     "output_type": "execute_result"
    }
   ],
   "source": [
    "GetDerivsFD([-2//1, -1, 0, 1, 2], 4)"
   ]
  },
  {
   "cell_type": "code",
   "execution_count": 5,
   "id": "0333f8ee-c138-4b78-bf18-9e53a6a4ace4",
   "metadata": {
    "tags": []
   },
   "outputs": [
    {
     "data": {
      "text/plain": [
       "\"((3//2)*(gf(p.I - 1*p.DI[dir]) + gf(p.I + 1*p.DI[dir])) + (1//90)*(gf(p.I - 3*p.DI[dir]) + gf(p.I + 3*p.DI[dir])) - (3//20)*(gf(p.I - 2*p.DI[dir]) + gf(p.I + 2*p.DI[dir])) - (49//18)*gf(p.I + 0*p.DI[dir])) / (h^2)\""
      ]
     },
     "execution_count": 5,
     "metadata": {},
     "output_type": "execute_result"
    }
   ],
   "source": [
    "GetDerivsFD([-3//1, -2, -1, 0, 1, 2, 3], 2)"
   ]
  },
  {
   "cell_type": "code",
   "execution_count": 9,
   "id": "e192ae80-f345-44e3-bb7c-4146206370b2",
   "metadata": {
    "tags": []
   },
   "outputs": [
    {
     "data": {
      "text/plain": [
       "\"((1//4)*gf(p.I + 2*p.DI[dir]) + (1//2)*gf(p.I - 1*p.DI[dir]) + (5//6)*gf(p.I + 1*p.DI[dir]) - (1//12)*gf(p.I - 2*p.DI[dir]) - (3//2)*gf(p.I + 0*p.DI[dir])) / h\""
      ]
     },
     "execution_count": 9,
     "metadata": {},
     "output_type": "execute_result"
    }
   ],
   "source": [
    "GetDerivsFD([-3//1, -2, -1, 0, 1], 1)"
   ]
  },
  {
   "cell_type": "code",
   "execution_count": 1,
   "id": "ffca4203-98e2-413d-bdc5-de16aa2d7eca",
   "metadata": {},
   "outputs": [],
   "source": [
    "using LinearSolve"
   ]
  },
  {
   "cell_type": "code",
   "execution_count": 3,
   "id": "f275ad49-dc48-4036-bec8-b50fa53941ae",
   "metadata": {},
   "outputs": [],
   "source": [
    "A = [1//1 1 1 1; -2 -1 1 2; (-2)^2 (-1)^2 1^2 2^2; (-2)^3 (-1)^3 1^3 2^3];\n",
    "B = transpose([0 1//1 0 0]);"
   ]
  },
  {
   "cell_type": "code",
   "execution_count": 4,
   "id": "c715af8f-ea5f-468a-9fbe-582012973498",
   "metadata": {},
   "outputs": [
    {
     "data": {
      "text/plain": [
       "4×1 Matrix{Rational{Int64}}:\n",
       "  1//12\n",
       " -2//3\n",
       "  2//3\n",
       " -1//12"
      ]
     },
     "execution_count": 4,
     "metadata": {},
     "output_type": "execute_result"
    }
   ],
   "source": [
    "A\\B"
   ]
  },
  {
   "cell_type": "code",
   "execution_count": 5,
   "id": "f23fe2ed-23aa-41d6-82ab-003a3a647e10",
   "metadata": {},
   "outputs": [
    {
     "data": {
      "text/plain": [
       "5-element Vector{Int64}:\n",
       " -2\n",
       " -1\n",
       "  0\n",
       "  1\n",
       "  2"
      ]
     },
     "execution_count": 5,
     "metadata": {},
     "output_type": "execute_result"
    }
   ],
   "source": [
    "sample = [-2, -1, 0, 1, 2]"
   ]
  },
  {
   "cell_type": "code",
   "execution_count": 42,
   "id": "57d82b42-382b-4481-9641-963d68db8924",
   "metadata": {},
   "outputs": [],
   "source": [
    "open(\"test.hxx\", \"w\") do f\n",
    "    print(f, C_1D2O)\n",
    "end"
   ]
  },
  {
   "cell_type": "markdown",
   "id": "af1064d7-f47c-4539-b62a-05a0016992f2",
   "metadata": {
    "jp-MarkdownHeadingCollapsed": true,
    "tags": []
   },
   "source": [
    "## Write to Files"
   ]
  },
  {
   "cell_type": "code",
   "execution_count": 4,
   "id": "55994a1d-59ac-4bef-868c-f3179a4fb98b",
   "metadata": {},
   "outputs": [],
   "source": [
    "filename = \"test.hxx\";\n",
    "thornname = \"WaveToyHigherOrderX\";"
   ]
  },
  {
   "cell_type": "code",
   "execution_count": 5,
   "id": "b01bf659-720b-44ba-8a59-93885b407584",
   "metadata": {},
   "outputs": [
    {
     "data": {
      "text/plain": [
       "headpart (generic function with 1 method)"
      ]
     },
     "execution_count": 5,
     "metadata": {},
     "output_type": "execute_result"
    }
   ],
   "source": [
    "function headpart(pr::Function)\n",
    "    pr(\"#ifndef \" * replace(uppercase(filename), \".\"=>\"_\"))\n",
    "    pr(\"#define \" * replace(uppercase(filename), \".\"=>\"_\"))\n",
    "    pr()\n",
    "    pr(\"#include <cctk.h>\")\n",
    "    pr(\"namespace \" * thornname * \" {\")\n",
    "    pr()\n",
    "end"
   ]
  },
  {
   "cell_type": "code",
   "execution_count": 6,
   "id": "5e3e6c8c-8d68-4aba-9ebb-a0b4b17c790d",
   "metadata": {},
   "outputs": [
    {
     "data": {
      "text/plain": [
       "bodypart (generic function with 1 method)"
      ]
     },
     "execution_count": 6,
     "metadata": {},
     "output_type": "execute_result"
    }
   ],
   "source": [
    "function bodypart(pr::Function)\n",
    "    pr(cs[1])\n",
    "    pr(cs[2])\n",
    "end"
   ]
  },
  {
   "cell_type": "code",
   "execution_count": 7,
   "id": "366ded37-d4b7-434e-b25e-58f0a9465384",
   "metadata": {},
   "outputs": [
    {
     "data": {
      "text/plain": [
       "tailpart (generic function with 1 method)"
      ]
     },
     "execution_count": 7,
     "metadata": {},
     "output_type": "execute_result"
    }
   ],
   "source": [
    "function tailpart(pr::Function)\n",
    "    pr(\"} // namespace \" * thornname)\n",
    "    pr(\"#endif // #ifndef \" * replace(uppercase(filename), \".\"=>\"_\"))\n",
    "end"
   ]
  },
  {
   "cell_type": "code",
   "execution_count": 8,
   "id": "95623d12-aa26-4f9a-8ab1-7db44a881add",
   "metadata": {},
   "outputs": [
    {
     "name": "stdout",
     "output_type": "stream",
     "text": [
      "file test.hxx already, exist, replacing it ...\n",
      "Done generating test.hxx\n"
     ]
    }
   ],
   "source": [
    "WriteFile(headpart, bodypart, tailpart, filename)"
   ]
  }
 ],
 "metadata": {
  "kernelspec": {
   "display_name": "Julia 1.9.0",
   "language": "julia",
   "name": "julia-1.9"
  },
  "language_info": {
   "file_extension": ".jl",
   "mimetype": "application/julia",
   "name": "julia",
   "version": "1.9.0"
  }
 },
 "nbformat": 4,
 "nbformat_minor": 5
}
