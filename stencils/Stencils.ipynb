{
 "cells": [
  {
   "cell_type": "markdown",
   "id": "569394ac-9082-45bd-97f2-f142f52d245a",
   "metadata": {},
   "source": [
    "# Finite Difference Stencils"
   ]
  },
  {
   "cell_type": "markdown",
   "id": "ad5d6a2e-90ed-41d7-89b0-fbed995dadb1",
   "metadata": {
    "tags": []
   },
   "source": [
    "We want to represent $f'(0)$ in the following form (say up to $O(h^5)$):\n",
    "$$\n",
    "f'(0) = \\frac{c_1 f(-2h) + c_2 f(-h) + c_3 f(+h) + c_4 f(+2h)}{h}\n",
    "$$\n",
    "which should be ture for any analytic function, for the first few bases, we can choose:\n",
    "$$\n",
    "\\begin{align}\n",
    "f(x) = 1, f(x) = x, f(x) = x^2, f(x) = x^3.\n",
    "\\end{align}\n",
    "$$\n",
    "Take derivatives\n",
    "$$\n",
    "\\begin{align}\n",
    "\\left.\n",
    "\\begin{array}{c}\n",
    "\\frac{c_1 + c_2 + c_3 + c_4}{h} &= 0,\\\\\n",
    "\\frac{c_1 (-2h) + c_2 (-h) + c_3 (h) + c_4 (h)}{h} &= 1,\\\\\n",
    "\\frac{c_1 (-2h)^2 + c_2 (-h)^2 + c_3 (h)^2 + c_4 (2h)^2}{h} &= 0,\\\\\n",
    "\\frac{c_1 (-2h)^3 + c_2 (-h)^3 + c_3 (h)^3 + c_4 (2h)^3}{h} &= 0,\\\\\n",
    "\\end{array}\n",
    "\\right\\}\n",
    "%\\begin{array}{c}\n",
    "%\n",
    "%\\end{array}\n",
    "\\end{align}\n",
    "$$"
   ]
  },
  {
   "cell_type": "code",
   "execution_count": 1,
   "id": "1eb4996f-b861-42cc-8581-822a374d33f7",
   "metadata": {},
   "outputs": [],
   "source": [
    "include(\"stencils.jl\")\n",
    "include(\"../writeio.jl\")\n",
    "using .FDStencils\n",
    "using .WriteIO\n",
    "#\n",
    "using Symbolics"
   ]
  },
  {
   "cell_type": "code",
   "execution_count": 4,
   "id": "e5257b1d-37c0-4214-9012-49d098ed68cc",
   "metadata": {},
   "outputs": [
    {
     "data": {
      "text/plain": [
       "1-element Vector{Symbolics.CallWithMetadata{SymbolicUtils.FnType{Tuple, Real}, Base.ImmutableDict{DataType, Any}}}:\n",
       " gf⋆"
      ]
     },
     "execution_count": 4,
     "metadata": {},
     "output_type": "execute_result"
    }
   ],
   "source": [
    "@variables gf(..)"
   ]
  },
  {
   "cell_type": "code",
   "execution_count": 12,
   "id": "2f648de4-32b3-4501-a933-bdc72cb4c6b5",
   "metadata": {},
   "outputs": [],
   "source": [
    "simple = [-2, -1, 0, 1, 2];\n",
    "values = [0, 1, 0, 0, 0];"
   ]
  },
  {
   "cell_type": "code",
   "execution_count": 14,
   "id": "74b03a36-9b5e-4d8c-979e-e5624ab1dfac",
   "metadata": {
    "tags": []
   },
   "outputs": [
    {
     "data": {
      "text/plain": [
       "5-element Vector{Float64}:\n",
       "  0.08333333333333348\n",
       " -0.6666666666666667\n",
       " -0.0\n",
       "  0.6666666666666666\n",
       " -0.08333333333333333"
      ]
     },
     "execution_count": 14,
     "metadata": {},
     "output_type": "execute_result"
    }
   ],
   "source": [
    "coeff_C_1stD_2ndA = GetCoefficient(simple, values)"
   ]
  },
  {
   "cell_type": "code",
   "execution_count": 39,
   "id": "8d1c6e0b-e118-4a5c-9089-f5465e81ce53",
   "metadata": {},
   "outputs": [
    {
     "data": {
      "text/latex": [
       "$$ \\begin{equation}\n",
       " - 0.08333333333333333 \\mathrm{gf}\\left( 2 \\right) + 0.6666666666666666 \\mathrm{gf}\\left( 1 \\right) - 0.6666666666666667 \\mathrm{gf}\\left( -1 \\right) + 0.08333333333333348 \\mathrm{gf}\\left( -2 \\right)\n",
       "\\end{equation}\n",
       " $$"
      ],
      "text/plain": [
       "0.6666666666666666gf(1) + 0.08333333333333348gf(-2) - 0.08333333333333333gf(2) - 0.6666666666666667gf(-1)"
      ]
     },
     "execution_count": 39,
     "metadata": {},
     "output_type": "execute_result"
    }
   ],
   "source": [
    "C_1stD_2ndA = sum(coeff_C_1stD_2ndA[i] * gf(i-floor(Int, length(coeff_C_1stD_2ndA)/2+1)) for i in 1:length(coeff_C_1stD_2ndA))"
   ]
  },
  {
   "cell_type": "code",
   "execution_count": 40,
   "id": "57d82b42-382b-4481-9641-963d68db8924",
   "metadata": {},
   "outputs": [],
   "source": [
    "open(\"test.hxx\", \"w\") do f\n",
    "    print(f, string(C_1stD_2ndA))\n",
    "end"
   ]
  },
  {
   "cell_type": "markdown",
   "id": "af1064d7-f47c-4539-b62a-05a0016992f2",
   "metadata": {
    "jp-MarkdownHeadingCollapsed": true,
    "tags": []
   },
   "source": [
    "## Write to Files"
   ]
  },
  {
   "cell_type": "code",
   "execution_count": 4,
   "id": "55994a1d-59ac-4bef-868c-f3179a4fb98b",
   "metadata": {},
   "outputs": [],
   "source": [
    "filename = \"test.hxx\";\n",
    "thornname = \"WaveToyHigherOrderX\";"
   ]
  },
  {
   "cell_type": "code",
   "execution_count": 5,
   "id": "b01bf659-720b-44ba-8a59-93885b407584",
   "metadata": {},
   "outputs": [
    {
     "data": {
      "text/plain": [
       "headpart (generic function with 1 method)"
      ]
     },
     "execution_count": 5,
     "metadata": {},
     "output_type": "execute_result"
    }
   ],
   "source": [
    "function headpart(pr::Function)\n",
    "    pr(\"#ifndef \" * replace(uppercase(filename), \".\"=>\"_\"))\n",
    "    pr(\"#define \" * replace(uppercase(filename), \".\"=>\"_\"))\n",
    "    pr()\n",
    "    pr(\"#include <cctk.h>\")\n",
    "    pr(\"namespace \" * thornname * \" {\")\n",
    "    pr()\n",
    "end"
   ]
  },
  {
   "cell_type": "code",
   "execution_count": 6,
   "id": "5e3e6c8c-8d68-4aba-9ebb-a0b4b17c790d",
   "metadata": {},
   "outputs": [
    {
     "data": {
      "text/plain": [
       "bodypart (generic function with 1 method)"
      ]
     },
     "execution_count": 6,
     "metadata": {},
     "output_type": "execute_result"
    }
   ],
   "source": [
    "function bodypart(pr::Function)\n",
    "    pr(cs[1])\n",
    "    pr(cs[2])\n",
    "end"
   ]
  },
  {
   "cell_type": "code",
   "execution_count": 7,
   "id": "366ded37-d4b7-434e-b25e-58f0a9465384",
   "metadata": {},
   "outputs": [
    {
     "data": {
      "text/plain": [
       "tailpart (generic function with 1 method)"
      ]
     },
     "execution_count": 7,
     "metadata": {},
     "output_type": "execute_result"
    }
   ],
   "source": [
    "function tailpart(pr::Function)\n",
    "    pr(\"} // namespace \" * thornname)\n",
    "    pr(\"#endif // #ifndef \" * replace(uppercase(filename), \".\"=>\"_\"))\n",
    "end"
   ]
  },
  {
   "cell_type": "code",
   "execution_count": 8,
   "id": "95623d12-aa26-4f9a-8ab1-7db44a881add",
   "metadata": {},
   "outputs": [
    {
     "name": "stdout",
     "output_type": "stream",
     "text": [
      "file test.hxx already, exist, replacing it ...\n",
      "Done generating test.hxx\n"
     ]
    }
   ],
   "source": [
    "WriteFile(headpart, bodypart, tailpart, filename)"
   ]
  }
 ],
 "metadata": {
  "kernelspec": {
   "display_name": "Julia 1.9.0",
   "language": "julia",
   "name": "julia-1.9"
  },
  "language_info": {
   "file_extension": ".jl",
   "mimetype": "application/julia",
   "name": "julia",
   "version": "1.9.0"
  }
 },
 "nbformat": 4,
 "nbformat_minor": 5
}
