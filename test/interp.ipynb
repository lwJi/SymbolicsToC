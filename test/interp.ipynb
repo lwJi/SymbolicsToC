{
 "cells": [
  {
   "cell_type": "markdown",
   "id": "289d4431-d2e5-4538-8aa6-388da680d6ea",
   "metadata": {},
   "source": [
    "# Interpolation Coefficient"
   ]
  },
  {
   "cell_type": "code",
   "execution_count": 1,
   "id": "9d72f3b5-bcec-41c6-94b5-bd95eaa72db8",
   "metadata": {},
   "outputs": [],
   "source": [
    "include(\"../stencils/interp.jl\")\n",
    "using .InterpStencils"
   ]
  },
  {
   "cell_type": "code",
   "execution_count": 2,
   "id": "7306bf46-0445-400d-a816-f697daae4825",
   "metadata": {},
   "outputs": [
    {
     "data": {
      "text/plain": [
       "4×1 Matrix{Rational{Int64}}:\n",
       " -1//16\n",
       "  9//16\n",
       "  9//16\n",
       " -1//16"
      ]
     },
     "execution_count": 2,
     "metadata": {},
     "output_type": "execute_result"
    }
   ],
   "source": [
    "InterpStencils.GetInterp([-3//2, -1//2, 1//2, 3//2])"
   ]
  },
  {
   "cell_type": "code",
   "execution_count": 3,
   "id": "6d1283ac-562f-4b05-955a-46b26a325965",
   "metadata": {},
   "outputs": [
    {
     "data": {
      "text/plain": [
       "3×1 Matrix{Rational{Int64}}:\n",
       " -1//8\n",
       "  3//4\n",
       "  3//8"
      ]
     },
     "execution_count": 3,
     "metadata": {},
     "output_type": "execute_result"
    }
   ],
   "source": [
    "InterpStencils.GetInterp([-3//2, -1//2, 1//2])"
   ]
  },
  {
   "cell_type": "markdown",
   "id": "a9d0008c-77d1-4657-9d64-0561b2ea2ca0",
   "metadata": {},
   "source": [
    "## Test Coeffient"
   ]
  },
  {
   "cell_type": "code",
   "execution_count": 4,
   "id": "35ae8ea4-fcdc-4b7f-9633-e87301e4cfd7",
   "metadata": {},
   "outputs": [
    {
     "data": {
      "text/plain": [
       "f (generic function with 1 method)"
      ]
     },
     "execution_count": 4,
     "metadata": {},
     "output_type": "execute_result"
    }
   ],
   "source": [
    "f(x) = 1 + 2 * (x - 1) + 3 * (x - 1)^2 + 4 * (x - 1)^3"
   ]
  },
  {
   "cell_type": "code",
   "execution_count": 5,
   "id": "58183c6c-786d-4ba8-af5b-aea08415baf9",
   "metadata": {},
   "outputs": [
    {
     "data": {
      "text/plain": [
       "f_co (generic function with 1 method)"
      ]
     },
     "execution_count": 5,
     "metadata": {},
     "output_type": "execute_result"
    }
   ],
   "source": [
    "f_co(samples) = InterpStencils.GetInterp(samples)"
   ]
  },
  {
   "cell_type": "code",
   "execution_count": 6,
   "id": "c827390c-1811-49ca-803d-a35210ddd6cd",
   "metadata": {},
   "outputs": [
    {
     "data": {
      "text/plain": [
       "4×1 Matrix{Rational{Int64}}:\n",
       " -1//16\n",
       "  9//16\n",
       "  9//16\n",
       " -1//16"
      ]
     },
     "execution_count": 6,
     "metadata": {},
     "output_type": "execute_result"
    }
   ],
   "source": [
    "f_co([-3//2, -1//2, 1//2, 3//2])"
   ]
  },
  {
   "cell_type": "code",
   "execution_count": 7,
   "id": "b3020c57-5598-4db0-8049-1349277b8902",
   "metadata": {},
   "outputs": [
    {
     "data": {
      "text/plain": [
       "f_interp (generic function with 1 method)"
      ]
     },
     "execution_count": 7,
     "metadata": {},
     "output_type": "execute_result"
    }
   ],
   "source": [
    "function f_interp(f, samples)\n",
    "    npts = length(samples)\n",
    "    coeff = InterpStencils.GetInterp(samples)\n",
    "    return sum(coeff[i] * f(samples[i]) for i in 1:npts)\n",
    "end"
   ]
  },
  {
   "cell_type": "code",
   "execution_count": 8,
   "id": "d37ccac0-2311-472d-b634-283cdde39d27",
   "metadata": {},
   "outputs": [
    {
     "data": {
      "text/plain": [
       "-2//1"
      ]
     },
     "execution_count": 8,
     "metadata": {},
     "output_type": "execute_result"
    }
   ],
   "source": [
    "f_interp(f, [-3//2, -1//2, 1//2, 3//2])"
   ]
  },
  {
   "cell_type": "code",
   "execution_count": 9,
   "id": "8310191f-e907-4ebd-8715-4df7e0183561",
   "metadata": {},
   "outputs": [
    {
     "data": {
      "text/plain": [
       "-2"
      ]
     },
     "execution_count": 9,
     "metadata": {},
     "output_type": "execute_result"
    }
   ],
   "source": [
    "f(0)"
   ]
  },
  {
   "cell_type": "code",
   "execution_count": 10,
   "id": "e0e2dbc4-e231-4242-a6ff-32371daf276a",
   "metadata": {},
   "outputs": [
    {
     "data": {
      "text/plain": [
       "-1.999999999999993"
      ]
     },
     "execution_count": 10,
     "metadata": {},
     "output_type": "execute_result"
    }
   ],
   "source": [
    "f_interp(f, [-6, -2, 2, 6])"
   ]
  },
  {
   "cell_type": "code",
   "execution_count": 11,
   "id": "e61414f6-9ca4-494e-8b4c-a88cdd4d8c1f",
   "metadata": {},
   "outputs": [
    {
     "data": {
      "text/plain": [
       "-2"
      ]
     },
     "execution_count": 11,
     "metadata": {},
     "output_type": "execute_result"
    }
   ],
   "source": [
    "f(0)"
   ]
  }
 ],
 "metadata": {
  "kernelspec": {
   "display_name": "Julia 1.9.4",
   "language": "julia",
   "name": "julia-1.9"
  },
  "language_info": {
   "file_extension": ".jl",
   "mimetype": "application/julia",
   "name": "julia",
   "version": "1.9.4"
  }
 },
 "nbformat": 4,
 "nbformat_minor": 5
}
