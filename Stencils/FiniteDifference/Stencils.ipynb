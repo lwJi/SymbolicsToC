{
 "cells": [
  {
   "cell_type": "markdown",
   "id": "569394ac-9082-45bd-97f2-f142f52d245a",
   "metadata": {},
   "source": [
    "# Finite Difference Stencils"
   ]
  },
  {
   "cell_type": "markdown",
   "id": "ad5d6a2e-90ed-41d7-89b0-fbed995dadb1",
   "metadata": {
    "tags": []
   },
   "source": [
    "We want to represent $f'(0)$ in the following form (say up to $O(h^5)$):\n",
    "$$\n",
    "f'(0) = \\frac{c_1 f(-2h) + c_2 f(-h) + c_3 f(+h) + c_4 f(+2h)}{h}\n",
    "$$\n",
    "which should be ture for any analytic function, for the first few bases, we can choose:\n",
    "$$\n",
    "\\begin{align}\n",
    "f(x) = 1, f(x) = x, f(x) = x^2, f(x) = x^3.\n",
    "\\end{align}\n",
    "$$\n",
    "Take derivatives\n",
    "$$\n",
    "\\begin{align}\n",
    "\\left.\n",
    "\\begin{array}{c}\n",
    "\\frac{c_1 + c_2 + c_3 + c_4}{h} &= 0,\\\\\n",
    "\\frac{c_1 (-2h) + c_2 (-h) + c_3 (h) + c_4 (h)}{h} &= 1,\\\\\n",
    "\\frac{c_1 (-2h)^2 + c_2 (-h)^2 + c_3 (h)^2 + c_4 (2h)^2}{h} &= 0,\\\\\n",
    "\\frac{c_1 (-2h)^3 + c_2 (-h)^3 + c_3 (h)^3 + c_4 (2h)^3}{h} &= 0,\\\\\n",
    "\\end{array}\n",
    "\\right\\}\n",
    "%\\begin{array}{c}\n",
    "%\n",
    "%\\end{array}\n",
    "\\end{align}\n",
    "$$"
   ]
  },
  {
   "cell_type": "code",
   "execution_count": null,
   "id": "1eb4996f-b861-42cc-8581-822a374d33f7",
   "metadata": {},
   "outputs": [],
   "source": [
    "include(\"stencils.jl\")"
   ]
  },
  {
   "cell_type": "code",
   "execution_count": 3,
   "id": "d354cb47-9c51-48f5-b0a4-640785b0d63c",
   "metadata": {},
   "outputs": [],
   "source": [
    "using .FDStencils"
   ]
  },
  {
   "cell_type": "code",
   "execution_count": 1,
   "id": "2f648de4-32b3-4501-a933-bdc72cb4c6b5",
   "metadata": {},
   "outputs": [],
   "source": [
    "simple = [-3//2, -1//2, 1//2, 3//2];\n",
    "values = [0, 1, 0, 0];"
   ]
  },
  {
   "cell_type": "code",
   "execution_count": 4,
   "id": "74b03a36-9b5e-4d8c-979e-e5624ab1dfac",
   "metadata": {},
   "outputs": [
    {
     "data": {
      "text/plain": [
       "4-element Vector{Rational{Int64}}:\n",
       "  1//24\n",
       " -9//8\n",
       "  9//8\n",
       " -1//24"
      ]
     },
     "execution_count": 4,
     "metadata": {},
     "output_type": "execute_result"
    }
   ],
   "source": [
    "GetCoefficient(simple, values)"
   ]
  }
 ],
 "metadata": {
  "kernelspec": {
   "display_name": "Julia 1.9.0",
   "language": "julia",
   "name": "julia-1.9"
  },
  "language_info": {
   "file_extension": ".jl",
   "mimetype": "application/julia",
   "name": "julia",
   "version": "1.9.0"
  }
 },
 "nbformat": 4,
 "nbformat_minor": 5
}
