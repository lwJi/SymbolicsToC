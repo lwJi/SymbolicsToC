{
 "cells": [
  {
   "cell_type": "markdown",
   "id": "569394ac-9082-45bd-97f2-f142f52d245a",
   "metadata": {},
   "source": [
    "# Finite Difference Stencils"
   ]
  },
  {
   "cell_type": "code",
   "execution_count": 1,
   "id": "51b84071-5b2f-46c0-88d7-5b0476bf7786",
   "metadata": {},
   "outputs": [],
   "source": [
    "using Symbolics"
   ]
  },
  {
   "cell_type": "code",
   "execution_count": 31,
   "id": "cd9f881a-8b55-4c85-b2bf-6fecc823932b",
   "metadata": {},
   "outputs": [
    {
     "data": {
      "text/plain": [
       "2-element Vector{Any}:\n",
       "  c⋆\n",
       " h"
      ]
     },
     "execution_count": 31,
     "metadata": {},
     "output_type": "execute_result"
    }
   ],
   "source": [
    "@variables c(..), h"
   ]
  },
  {
   "cell_type": "code",
   "execution_count": 48,
   "id": "ddab14b3-0781-48f3-ab38-ee2f5ab496f0",
   "metadata": {},
   "outputs": [],
   "source": [
    "sample = [-3//2, -1//2, 1//2, 3//2];\n",
    "value = [0, 1, 0, 0];"
   ]
  },
  {
   "cell_type": "code",
   "execution_count": 50,
   "id": "835e5ef3-5ac6-4122-8374-8132368e2ac9",
   "metadata": {},
   "outputs": [
    {
     "data": {
      "text/latex": [
       "$$ \\begin{align}\n",
       "c\\left( 0 \\right) + c\\left( 1 \\right) + c\\left( 2 \\right) + c\\left( 3 \\right) =& 0 \\\\\n",
       " - \\frac{3}{2} c\\left( 0 \\right) - \\frac{1}{2} c\\left( 1 \\right) + \\frac{1}{2} c\\left( 2 \\right) + \\frac{3}{2} c\\left( 3 \\right) =& 1 \\\\\n",
       "\\frac{9}{4} c\\left( 0 \\right) + \\frac{1}{4} c\\left( 1 \\right) + \\frac{1}{4} c\\left( 2 \\right) + \\frac{9}{4} c\\left( 3 \\right) =& 0 \\\\\n",
       " - \\frac{27}{8} c\\left( 0 \\right) - \\frac{1}{8} c\\left( 1 \\right) + \\frac{1}{8} c\\left( 2 \\right) + \\frac{27}{8} c\\left( 3 \\right) =& 0\n",
       "\\end{align}\n",
       " $$"
      ],
      "text/plain": [
       "4-element Vector{Equation}:\n",
       " c(0) + c(1) + c(2) + c(3) ~ 0\n",
       " (1//2)*c(2) + (3//2)*c(3) - (3//2)*c(0) - (1//2)*c(1) ~ 1\n",
       " (9//4)*c(0) + (1//4)*c(1) + (1//4)*c(2) + (9//4)*c(3) ~ 0\n",
       " (1//8)*c(2) + (27//8)*c(3) - (27//8)*c(0) - (1//8)*c(1) ~ 0"
      ]
     },
     "execution_count": 50,
     "metadata": {},
     "output_type": "execute_result"
    }
   ],
   "source": [
    "eqs = [sum([c(i)*sample[i+1]^j for i in 0:3]) ~ value[j+1] for j in 0:3]"
   ]
  },
  {
   "cell_type": "code",
   "execution_count": 51,
   "id": "1c1f0c8c-0574-47bd-85e9-d75d89352f42",
   "metadata": {},
   "outputs": [
    {
     "data": {
      "text/plain": [
       "4-element Vector{Rational{Int64}}:\n",
       "  1//24\n",
       " -9//8\n",
       "  9//8\n",
       " -1//24"
      ]
     },
     "execution_count": 51,
     "metadata": {},
     "output_type": "execute_result"
    }
   ],
   "source": [
    "Symbolics.solve_for(eqs, [c(i) for i in 0:3])"
   ]
  }
 ],
 "metadata": {
  "kernelspec": {
   "display_name": "Julia 1.8.3",
   "language": "julia",
   "name": "julia-1.8"
  },
  "language_info": {
   "file_extension": ".jl",
   "mimetype": "application/julia",
   "name": "julia",
   "version": "1.8.3"
  }
 },
 "nbformat": 4,
 "nbformat_minor": 5
}
